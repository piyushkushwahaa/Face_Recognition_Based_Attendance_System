{
 "cells": [
  {
   "cell_type": "code",
   "execution_count": 6,
   "id": "a3f47d1c-a044-48b3-aabb-b3c1f8d2bbd0",
   "metadata": {
    "editable": true,
    "slideshow": {
     "slide_type": ""
    },
    "tags": []
   },
   "outputs": [
    {
     "name": "stdout",
     "output_type": "stream",
     "text": [
      "Shape of Faces matrix -->  (100, 7500)\n"
     ]
    }
   ],
   "source": [
    "\n",
    "from sklearn.neighbors import KNeighborsClassifier\n",
    "import cv2\n",
    "import pickle\n",
    "import numpy as np\n",
    "import os\n",
    "import csv\n",
    "import time\n",
    "from datetime import datetime\n",
    "from win32com.client import Dispatch\n",
    "\n",
    "ts=time.time()\n",
    "date=datetime.fromtimestamp(ts).strftime(\"%d-%m-%Y\")\n",
    "timestamp=datetime.fromtimestamp(ts).strftime(\"%H:%M:%S\")\n",
    "\n",
    "def speak(str1):\n",
    "    speak=Dispatch((\"SAPI.SpVoice\"))\n",
    "    speak.Speak(str1)\n",
    "\n",
    "video=cv2.VideoCapture(0)\n",
    "facedetect=cv2.CascadeClassifier('data/haarcascade_frontalface_default.xml')\n",
    "\n",
    "with open('data/names.pkl', 'rb') as w:\n",
    "    LABELS=pickle.load(w)\n",
    "with open('data/faces_data.pkl', 'rb') as f:\n",
    "    FACES=pickle.load(f)\n",
    "    FACES = FACES / 255.0\n",
    "    \n",
    "print('Shape of Faces matrix --> ', FACES.shape)\n",
    "\n",
    "knn=KNeighborsClassifier(n_neighbors=5)\n",
    "knn.fit(FACES, LABELS)\n",
    "\n",
    "imgBackground=cv2.imread(\"background.png\")\n",
    "\n",
    "COL_NAMES = ['NAME', 'TIME']\n",
    "\n",
    "while True:\n",
    "    ret,frame=video.read()\n",
    "    gray=cv2.cvtColor(frame, cv2.COLOR_BGR2GRAY)\n",
    "    faces=facedetect.detectMultiScale(gray, 1.3 ,5)\n",
    "    for (x,y,w,h) in faces:\n",
    "        crop_img=frame[y:y+h, x:x+w, :]\n",
    "        resized_img = cv2.resize(crop_img, (50, 50)).flatten().reshape(1, -1) / 255.0\n",
    "        distances, indices = knn.kneighbors(resized_img)\n",
    "      # print(\"Distances:\", distances, \"Output:\", output)\n",
    "        threshold = 10                                                                      \n",
    "        if distances[0][0] > threshold:\n",
    "            output = [\"Unknown\"]\n",
    "        else:\n",
    "            output = knn.predict(resized_img)\n",
    "            \n",
    "        exist=os.path.isfile(\"Attendance/Attendance_\" + date + \".csv\")\n",
    "        cv2.rectangle(frame,(x,y),(x+w,y+h),(0,0,255),2)\n",
    "        cv2.rectangle(frame,(x,y-35),(x+w,y),(0,128,255),-1)\n",
    "        cv2.putText(frame, str(output[0]), (x,y-15), cv2.FONT_HERSHEY_COMPLEX, 0.9, (255,255,255), 1)        \n",
    "        attendance=[str(output[0]), str(timestamp)]\n",
    "    imgBackground[162:162 + 480, 55:55 + 640] = frame\n",
    "    cv2.imshow(\"Frame\",imgBackground)\n",
    "    k=cv2.waitKey(1)\n",
    "    if k == ord('o') and output[0] != \"Unknown\":\n",
    "        speak(\"Attendance Taken..\")\n",
    "        time.sleep(3)\n",
    "        if exist:\n",
    "            with open(\"Attendance/Attendance_\" + date + \".csv\", \"+a\") as csvfile:\n",
    "                writer=csv.writer(csvfile)\n",
    "                writer.writerow(attendance)\n",
    "            csvfile.close()\n",
    "        else:\n",
    "            with open(\"Attendance/Attendance_\" + date + \".csv\", \"+a\") as csvfile:\n",
    "                writer=csv.writer(csvfile)\n",
    "                writer.writerow(COL_NAMES)\n",
    "                writer.writerow(attendance)\n",
    "            csvfile.close()\n",
    "    if k==ord('q'):\n",
    "        break\n",
    "video.release()\n",
    "cv2.destroyAllWindows()\n",
    "\n"
   ]
  },
  {
   "cell_type": "code",
   "execution_count": 2,
   "id": "7149a817-6de7-44d7-87a5-053a35b7daf0",
   "metadata": {},
   "outputs": [
    {
     "name": "stdout",
     "output_type": "stream",
     "text": [
      "['Piyush', 'Piyush', 'Piyush', 'Piyush', 'Piyush', 'Piyush', 'Piyush', 'Piyush', 'Piyush', 'Piyush', 'Piyush', 'Piyush', 'Piyush', 'Piyush', 'Piyush', 'Piyush', 'Piyush', 'Piyush', 'Piyush', 'Piyush', 'Piyush', 'Piyush', 'Piyush', 'Piyush', 'Piyush', 'Piyush', 'Piyush', 'Piyush', 'Piyush', 'Piyush', 'Piyush', 'Piyush', 'Piyush', 'Piyush', 'Piyush', 'Piyush', 'Piyush', 'Piyush', 'Piyush', 'Piyush', 'Piyush', 'Piyush', 'Piyush', 'Piyush', 'Piyush', 'Piyush', 'Piyush', 'Piyush', 'Piyush', 'Piyush', 'Piyush', 'Piyush', 'Piyush', 'Piyush', 'Piyush', 'Piyush', 'Piyush', 'Piyush', 'Piyush', 'Piyush', 'Piyush', 'Piyush', 'Piyush', 'Piyush', 'Piyush', 'Piyush', 'Piyush', 'Piyush', 'Piyush', 'Piyush', 'Piyush', 'Piyush', 'Piyush', 'Piyush', 'Piyush', 'Piyush', 'Piyush', 'Piyush', 'Piyush', 'Piyush', 'Piyush', 'Piyush', 'Piyush', 'Piyush', 'Piyush', 'Piyush', 'Piyush', 'Piyush', 'Piyush', 'Piyush', 'Piyush', 'Piyush', 'Piyush', 'Piyush', 'Piyush', 'Piyush', 'Piyush', 'Piyush', 'Piyush', 'Piyush']\n"
     ]
    }
   ],
   "source": [
    "import pickle\n",
    "with open('data/names.pkl', 'rb') as w:\n",
    "    LABELS = pickle.load(w)\n",
    "    print(LABELS)"
   ]
  },
  {
   "cell_type": "code",
   "execution_count": 3,
   "id": "642bea20-d7e4-4a8c-8b12-d7a6389929bc",
   "metadata": {},
   "outputs": [
    {
     "name": "stdout",
     "output_type": "stream",
     "text": [
      "[[ 21  22  15 ...  45  54  53]\n",
      " [ 32  27  24 ...  35  42  42]\n",
      " [ 31  30  24 ...  26  39  39]\n",
      " ...\n",
      " [127 131 130 ...  33  45  47]\n",
      " [124 127 128 ...  31  39  39]\n",
      " [127 129 124 ...  38  46  49]]\n"
     ]
    }
   ],
   "source": [
    "with open('data/faces_data.pkl', 'rb') as f:\n",
    "    FACES=pickle.load(f)\n",
    "    print(FACES)"
   ]
  },
  {
   "cell_type": "code",
   "execution_count": null,
   "id": "b1ef9009-937b-48f2-b5e2-8d3ce1b8985b",
   "metadata": {},
   "outputs": [],
   "source": []
  }
 ],
 "metadata": {
  "kernelspec": {
   "display_name": "Python 3 (ipykernel)",
   "language": "python",
   "name": "python3"
  },
  "language_info": {
   "codemirror_mode": {
    "name": "ipython",
    "version": 3
   },
   "file_extension": ".py",
   "mimetype": "text/x-python",
   "name": "python",
   "nbconvert_exporter": "python",
   "pygments_lexer": "ipython3",
   "version": "3.12.3"
  }
 },
 "nbformat": 4,
 "nbformat_minor": 5
}
