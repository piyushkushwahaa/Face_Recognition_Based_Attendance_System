{
 "cells": [
  {
   "cell_type": "code",
   "execution_count": 1,
   "id": "fbb6d869",
   "metadata": {
    "execution": {
     "iopub.execute_input": "2025-10-25T11:06:56.341306Z",
     "iopub.status.busy": "2025-10-25T11:06:56.341306Z",
     "iopub.status.idle": "2025-10-25T11:06:56.348404Z",
     "shell.execute_reply": "2025-10-25T11:06:56.348404Z"
    },
    "papermill": {
     "duration": 0.015807,
     "end_time": "2025-10-25T11:06:56.350927",
     "exception": false,
     "start_time": "2025-10-25T11:06:56.335120",
     "status": "completed"
    },
    "tags": [
     "injected-parameters"
    ]
   },
   "outputs": [],
   "source": [
    "# Parameters\n",
    "name = \"Piyush\"\n",
    "Email = \"infopiyush7667@gmail.com\"\n"
   ]
  },
  {
   "cell_type": "code",
   "execution_count": 2,
   "id": "5285ff0a-cdc6-4ebe-8baf-b6b26c54542e",
   "metadata": {
    "execution": {
     "iopub.execute_input": "2025-10-25T11:06:56.350927Z",
     "iopub.status.busy": "2025-10-25T11:06:56.350927Z",
     "iopub.status.idle": "2025-10-25T11:07:31.349909Z",
     "shell.execute_reply": "2025-10-25T11:07:31.349909Z"
    },
    "papermill": {
     "duration": 34.998982,
     "end_time": "2025-10-25T11:07:31.349909",
     "exception": false,
     "start_time": "2025-10-25T11:06:56.350927",
     "status": "completed"
    },
    "tags": []
   },
   "outputs": [],
   "source": [
    "import cv2\n",
    "import pickle\n",
    "import numpy as np\n",
    "import os\n",
    "video=cv2.VideoCapture(0)\n",
    "facedetect=cv2.CascadeClassifier('data/haarcascade_frontalface_default.xml')\n",
    "\n",
    "faces_data=[]\n",
    "i=0\n",
    "\n",
    "while True:\n",
    "    ret,frame=video.read()\n",
    "    gray=cv2.cvtColor(frame, cv2.COLOR_BGR2GRAY)\n",
    "    faces=facedetect.detectMultiScale(gray, 1.3 ,5)\n",
    "    for (x,y,w,h) in faces:\n",
    "        crop_img=frame[y:y+h, x:x+w, :]\n",
    "        resized_img=cv2.resize(crop_img, (50,50))\n",
    "        if len(faces_data)<=100 and i%10==0:\n",
    "            faces_data.append(resized_img)\n",
    "        i=i+1\n",
    "        cv2.putText(frame, str(len(faces_data)), (50,50), cv2.FONT_HERSHEY_COMPLEX, 1, (0,0,255), 1)\n",
    "        cv2.rectangle(frame, (x,y), (x+w, y+h), (0,0,255), 1)\n",
    "    cv2.imshow(\"Frame\",frame)\n",
    "    k=cv2.waitKey(1)\n",
    "    if k==ord('q') or len(faces_data)==100:\n",
    "        break\n",
    "video.release()\n",
    "cv2.destroyAllWindows()\n",
    "\n",
    "faces_data=np.asarray(faces_data)\n",
    "faces_data=faces_data.reshape(100, -1)\n",
    "\n",
    "\n",
    "if 'names.pkl' not in os.listdir('data/'):\n",
    "    names=[name]*100\n",
    "    with open('data/names.pkl', 'wb') as f:\n",
    "        pickle.dump(names, f)\n",
    "else:\n",
    "    with open('data/names.pkl', 'rb') as f:\n",
    "        names=pickle.load(f)\n",
    "    names=names+[name]*100\n",
    "    with open('data/names.pkl', 'wb') as f:\n",
    "        pickle.dump(names, f)\n",
    "\n",
    "if 'faces_data.pkl' not in os.listdir('data/'):\n",
    "    with open('data/faces_data.pkl', 'wb') as f:\n",
    "        pickle.dump(faces_data, f)\n",
    "else:\n",
    "    with open('data/faces_data.pkl', 'rb') as f:\n",
    "        faces=pickle.load(f)\n",
    "    faces=np.append(faces, faces_data, axis=0)\n",
    "    with open('data/faces_data.pkl', 'wb') as f:\n",
    "        pickle.dump(faces, f)\n",
    "\n",
    "if 'Emails.pkl' not in os.listdir('data/'):\n",
    "    Emails=[Email]*100\n",
    "    with open('data/Emails.pkl', 'wb') as f:\n",
    "        pickle.dump(Emails, f)\n",
    "else:\n",
    "    with open('data/Emails.pkl', 'rb') as f:\n",
    "        Emails=pickle.load(f)\n",
    "    Emails=Emails+[Email]*100\n",
    "    with open('data/Emails.pkl', 'wb') as f:\n",
    "        pickle.dump(Emails, f)"
   ]
  },
  {
   "cell_type": "code",
   "execution_count": null,
   "id": "95e0ef60-b40c-4b35-927a-70ef555db324",
   "metadata": {
    "papermill": {
     "duration": 0.0,
     "end_time": "2025-10-25T11:07:31.357946",
     "exception": false,
     "start_time": "2025-10-25T11:07:31.357946",
     "status": "completed"
    },
    "tags": []
   },
   "outputs": [],
   "source": []
  }
 ],
 "metadata": {
  "kernelspec": {
   "display_name": "Python 3 (ipykernel)",
   "language": "python",
   "name": "python3"
  },
  "language_info": {
   "codemirror_mode": {
    "name": "ipython",
    "version": 3
   },
   "file_extension": ".py",
   "mimetype": "text/x-python",
   "name": "python",
   "nbconvert_exporter": "python",
   "pygments_lexer": "ipython3",
   "version": "3.12.3"
  },
  "papermill": {
   "default_parameters": {},
   "duration": 36.602822,
   "end_time": "2025-10-25T11:07:31.618860",
   "environment_variables": {},
   "exception": null,
   "input_path": "Face_Email_View_sample.ipynb",
   "output_path": "Face_Email_View_sample.ipynb",
   "parameters": {
    "Email": "infopiyush7667@gmail.com",
    "name": "Piyush"
   },
   "start_time": "2025-10-25T11:06:55.016038",
   "version": "2.6.0"
  }
 },
 "nbformat": 4,
 "nbformat_minor": 5
}