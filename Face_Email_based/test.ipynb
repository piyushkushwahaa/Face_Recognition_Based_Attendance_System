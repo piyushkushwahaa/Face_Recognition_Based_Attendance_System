{
 "cells": [
  {
   "cell_type": "code",
   "execution_count": 10,
   "id": "3d743d86-ac2e-4594-b080-daaa76867004",
   "metadata": {},
   "outputs": [
    {
     "name": "stdout",
     "output_type": "stream",
     "text": [
      "Shape of Faces matrix -->  (200, 7500)\n"
     ]
    }
   ],
   "source": [
    "from sklearn.neighbors import KNeighborsClassifier\n",
    "import cv2\n",
    "import pickle\n",
    "import numpy as np\n",
    "import os\n",
    "import csv\n",
    "import time\n",
    "from datetime import datetime\n",
    "from win32com.client import Dispatch\n",
    "\n",
    "def speak(str1):\n",
    "    speak = Dispatch((\"SAPI.SpVoice\"))\n",
    "    speak.Speak(str1)\n",
    "\n",
    "video = cv2.VideoCapture(0)\n",
    "facedetect = cv2.CascadeClassifier('data/haarcascade_frontalface_default.xml')\n",
    "\n",
    "with open('data/names.pkl', 'rb') as w:\n",
    "    LABELS = pickle.load(w)\n",
    "with open('data/faces_data.pkl', 'rb') as f:\n",
    "    FACES = pickle.load(f)\n",
    "\n",
    "print('Shape of Faces matrix --> ', FACES.shape)\n",
    "FACES = FACES / 255.0  # Normalize training faces\n",
    "knn = KNeighborsClassifier(n_neighbors=5)\n",
    "knn.fit(FACES, LABELS)\n",
    "\n",
    "imgBackground = cv2.imread(\"background.png\")\n",
    "\n",
    "COL_NAMES = ['NAME', 'TIME']\n",
    "\n",
    "while True:\n",
    "    ret, frame = video.read()\n",
    "    gray = cv2.cvtColor(frame, cv2.COLOR_BGR2GRAY)\n",
    "    faces = facedetect.detectMultiScale(gray, 1.3, 5)\n",
    "\n",
    "    for (x, y, w, h) in faces:\n",
    "        crop_img = frame[y:y+h, x:x+w, :]\n",
    "        resized_img = cv2.resize(crop_img, (50, 50)).flatten().reshape(1, -1) / 255.0  # Normalize test face\n",
    "\n",
    "        distances, indices = knn.kneighbors(resized_img)\n",
    "        \n",
    "        threshold = 9  # Adjust based on your data\n",
    "        \n",
    "        if distances[0][0] > threshold:\n",
    "            output = [\"Unknown\"]\n",
    "        else:\n",
    "            output = knn.predict(resized_img)\n",
    "        \n",
    "       # print(\"Distances:\", distances, \"Output:\", output)\n",
    "\n",
    "        ts = time.time()\n",
    "        date = datetime.fromtimestamp(ts).strftime(\"%d-%m-%Y\")\n",
    "        timestamp = datetime.fromtimestamp(ts).strftime(\"%H:%M:%S\")\n",
    "        exist = os.path.isfile(\"Attendance/Attendance_\" + date + \".csv\")\n",
    "\n",
    "        cv2.rectangle(frame, (x, y), (x+w, y+h), (0, 0, 255), 1)\n",
    "        cv2.rectangle(frame, (x, y), (x+w, y+h), (50, 50, 255), 2)\n",
    "        cv2.rectangle(frame, (x, y-40), (x+w, y), (50, 50, 255), -1)\n",
    "        cv2.putText(frame, str(output[0]), (x, y-15), cv2.FONT_HERSHEY_COMPLEX, 1, (255, 255, 255), 1)\n",
    "        attendance = [str(output[0]), str(timestamp)]\n",
    "\n",
    "    imgBackground[162:162 + 480, 55:55 + 640] = frame\n",
    "    cv2.imshow(\"Frame\", imgBackground)\n",
    "    k = cv2.waitKey(1)\n",
    "\n",
    "    if k == ord('o') and output[0] != \"Unknown\":\n",
    "        speak(\"Attendance Taken..\")\n",
    "        time.sleep(3)\n",
    "        if exist:\n",
    "            with open(\"Attendance/Attendance_\" + date + \".csv\", \"+a\") as csvfile:\n",
    "                writer = csv.writer(csvfile)\n",
    "                writer.writerow(attendance)\n",
    "        else:\n",
    "            with open(\"Attendance/Attendance_\" + date + \".csv\", \"+a\") as csvfile:\n",
    "                writer = csv.writer(csvfile)\n",
    "                writer.writerow(COL_NAMES)\n",
    "                writer.writerow(attendance)\n",
    "\n",
    "    if k == ord('q'):\n",
    "        break\n",
    "\n",
    "video.release()\n",
    "cv2.destroyAllWindows()\n"
   ]
  },
  {
   "cell_type": "code",
   "execution_count": null,
   "id": "f4ef70df-5b28-45c8-b2fe-5490276abd39",
   "metadata": {},
   "outputs": [],
   "source": []
  },
  {
   "cell_type": "code",
   "execution_count": 1,
   "id": "8917847d-e9a2-4a3d-8084-00cedf99969c",
   "metadata": {},
   "outputs": [
    {
     "name": "stdout",
     "output_type": "stream",
     "text": [
      "['Piyush', 'Piyush', 'Piyush', 'Piyush', 'Piyush', 'Piyush', 'Piyush', 'Piyush', 'Piyush', 'Piyush', 'Piyush', 'Piyush', 'Piyush', 'Piyush', 'Piyush', 'Piyush', 'Piyush', 'Piyush', 'Piyush', 'Piyush', 'Piyush', 'Piyush', 'Piyush', 'Piyush', 'Piyush', 'Piyush', 'Piyush', 'Piyush', 'Piyush', 'Piyush', 'Piyush', 'Piyush', 'Piyush', 'Piyush', 'Piyush', 'Piyush', 'Piyush', 'Piyush', 'Piyush', 'Piyush', 'Piyush', 'Piyush', 'Piyush', 'Piyush', 'Piyush', 'Piyush', 'Piyush', 'Piyush', 'Piyush', 'Piyush', 'Piyush', 'Piyush', 'Piyush', 'Piyush', 'Piyush', 'Piyush', 'Piyush', 'Piyush', 'Piyush', 'Piyush', 'Piyush', 'Piyush', 'Piyush', 'Piyush', 'Piyush', 'Piyush', 'Piyush', 'Piyush', 'Piyush', 'Piyush', 'Piyush', 'Piyush', 'Piyush', 'Piyush', 'Piyush', 'Piyush', 'Piyush', 'Piyush', 'Piyush', 'Piyush', 'Piyush', 'Piyush', 'Piyush', 'Piyush', 'Piyush', 'Piyush', 'Piyush', 'Piyush', 'Piyush', 'Piyush', 'Piyush', 'Piyush', 'Piyush', 'Piyush', 'Piyush', 'Piyush', 'Piyush', 'Piyush', 'Piyush', 'Piyush']\n"
     ]
    }
   ],
   "source": [
    "import pickle\n",
    "with open('data/names.pkl', 'rb') as w:\n",
    "    LABELS=pickle.load(w)\n",
    "    print(LABELS)"
   ]
  },
  {
   "cell_type": "code",
   "execution_count": 3,
   "id": "5980cf83-7481-4f4f-8160-22bc19fe775f",
   "metadata": {},
   "outputs": [
    {
     "name": "stdout",
     "output_type": "stream",
     "text": [
      "[[ 36  30  29 ...  38  34  35]\n",
      " [ 31  29  33 ...  39  27  36]\n",
      " [ 29  25  28 ...  40  34  40]\n",
      " ...\n",
      " [ 21 148 197 ...  38  88 125]\n",
      " [ 20 148 197 ...   2   3  35]\n",
      " [ 18 147 194 ...  44 127 174]]\n"
     ]
    }
   ],
   "source": [
    "import pickle\n",
    "with open('data/faces_data.pkl', 'rb') as f:\n",
    "    FACES=pickle.load(f)\n",
    "    print(FACES)"
   ]
  },
  {
   "cell_type": "code",
   "execution_count": 2,
   "id": "56b4cb66-5914-4464-94a1-d3db48b17545",
   "metadata": {},
   "outputs": [
    {
     "name": "stdout",
     "output_type": "stream",
     "text": [
      "['infopiyush2004@gmail.com', 'infopiyush2004@gmail.com', 'infopiyush2004@gmail.com', 'infopiyush2004@gmail.com', 'infopiyush2004@gmail.com', 'infopiyush2004@gmail.com', 'infopiyush2004@gmail.com', 'infopiyush2004@gmail.com', 'infopiyush2004@gmail.com', 'infopiyush2004@gmail.com', 'infopiyush2004@gmail.com', 'infopiyush2004@gmail.com', 'infopiyush2004@gmail.com', 'infopiyush2004@gmail.com', 'infopiyush2004@gmail.com', 'infopiyush2004@gmail.com', 'infopiyush2004@gmail.com', 'infopiyush2004@gmail.com', 'infopiyush2004@gmail.com', 'infopiyush2004@gmail.com', 'infopiyush2004@gmail.com', 'infopiyush2004@gmail.com', 'infopiyush2004@gmail.com', 'infopiyush2004@gmail.com', 'infopiyush2004@gmail.com', 'infopiyush2004@gmail.com', 'infopiyush2004@gmail.com', 'infopiyush2004@gmail.com', 'infopiyush2004@gmail.com', 'infopiyush2004@gmail.com', 'infopiyush2004@gmail.com', 'infopiyush2004@gmail.com', 'infopiyush2004@gmail.com', 'infopiyush2004@gmail.com', 'infopiyush2004@gmail.com', 'infopiyush2004@gmail.com', 'infopiyush2004@gmail.com', 'infopiyush2004@gmail.com', 'infopiyush2004@gmail.com', 'infopiyush2004@gmail.com', 'infopiyush2004@gmail.com', 'infopiyush2004@gmail.com', 'infopiyush2004@gmail.com', 'infopiyush2004@gmail.com', 'infopiyush2004@gmail.com', 'infopiyush2004@gmail.com', 'infopiyush2004@gmail.com', 'infopiyush2004@gmail.com', 'infopiyush2004@gmail.com', 'infopiyush2004@gmail.com', 'infopiyush2004@gmail.com', 'infopiyush2004@gmail.com', 'infopiyush2004@gmail.com', 'infopiyush2004@gmail.com', 'infopiyush2004@gmail.com', 'infopiyush2004@gmail.com', 'infopiyush2004@gmail.com', 'infopiyush2004@gmail.com', 'infopiyush2004@gmail.com', 'infopiyush2004@gmail.com', 'infopiyush2004@gmail.com', 'infopiyush2004@gmail.com', 'infopiyush2004@gmail.com', 'infopiyush2004@gmail.com', 'infopiyush2004@gmail.com', 'infopiyush2004@gmail.com', 'infopiyush2004@gmail.com', 'infopiyush2004@gmail.com', 'infopiyush2004@gmail.com', 'infopiyush2004@gmail.com', 'infopiyush2004@gmail.com', 'infopiyush2004@gmail.com', 'infopiyush2004@gmail.com', 'infopiyush2004@gmail.com', 'infopiyush2004@gmail.com', 'infopiyush2004@gmail.com', 'infopiyush2004@gmail.com', 'infopiyush2004@gmail.com', 'infopiyush2004@gmail.com', 'infopiyush2004@gmail.com', 'infopiyush2004@gmail.com', 'infopiyush2004@gmail.com', 'infopiyush2004@gmail.com', 'infopiyush2004@gmail.com', 'infopiyush2004@gmail.com', 'infopiyush2004@gmail.com', 'infopiyush2004@gmail.com', 'infopiyush2004@gmail.com', 'infopiyush2004@gmail.com', 'infopiyush2004@gmail.com', 'infopiyush2004@gmail.com', 'infopiyush2004@gmail.com', 'infopiyush2004@gmail.com', 'infopiyush2004@gmail.com', 'infopiyush2004@gmail.com', 'infopiyush2004@gmail.com', 'infopiyush2004@gmail.com', 'infopiyush2004@gmail.com', 'infopiyush2004@gmail.com', 'infopiyush2004@gmail.com']\n"
     ]
    }
   ],
   "source": [
    "import pickle\n",
    "with open('data/Emails.pkl', 'rb') as f:\n",
    "    EMAILS = pickle.load(f)\n",
    "    print(EMAILS)"
   ]
  },
  {
   "cell_type": "code",
   "execution_count": 1,
   "id": "e28bc297-55c5-4f8d-b2f6-5bbebf83120a",
   "metadata": {},
   "outputs": [],
   "source": [
    "import tkinter as tk\n",
    "\n",
    "root = tk.Tk()\n",
    "root.configure(bg=\"#f0f0f0\")\n",
    "\n",
    "label_name = tk.Label(root, text=\"Enter Your Name:\", font=(\"Arial\", 15), bg=\"#f0f0f0\")\n",
    "label_name.pack(pady=5)\n",
    "entry_name = tk.Entry(root, width=35)\n",
    "entry_name.pack(pady=8)\n",
    "\n",
    "label_email = tk.Label(root, text=\"Enter Your Email:\", font=(\"Arial\", 15), bg=\"#f0f0f0\")\n",
    "label_email.pack(pady=5)\n",
    "entry_email = tk.Entry(root, width=35)\n",
    "entry_email.pack(pady=8)\n",
    "\n",
    "def reset_form():\n",
    "    label_name.config(text=\"Enter Your Name:\")   \n",
    "    label_email.config(text=\"Enter Your Email:\") \n",
    "    entry_name.delete(0, tk.END)                \n",
    "    entry_email.delete(0, tk.END)               \n",
    "\n",
    "tk.Button(root, text=\"Reset\", command=reset_form).pack(pady=10)\n",
    "\n",
    "root.mainloop()\n"
   ]
  },
  {
   "cell_type": "code",
   "execution_count": null,
   "id": "5d4dcf71-aa4f-4a99-84c9-8ba78172cd9a",
   "metadata": {},
   "outputs": [],
   "source": []
  }
 ],
 "metadata": {
  "kernelspec": {
   "display_name": "Python 3 (ipykernel)",
   "language": "python",
   "name": "python3"
  },
  "language_info": {
   "codemirror_mode": {
    "name": "ipython",
    "version": 3
   },
   "file_extension": ".py",
   "mimetype": "text/x-python",
   "name": "python",
   "nbconvert_exporter": "python",
   "pygments_lexer": "ipython3",
   "version": "3.12.3"
  }
 },
 "nbformat": 4,
 "nbformat_minor": 5
}
