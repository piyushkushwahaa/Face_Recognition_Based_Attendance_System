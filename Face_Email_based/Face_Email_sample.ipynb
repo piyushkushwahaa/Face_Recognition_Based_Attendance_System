{
 "cells": [
  {
   "cell_type": "code",
   "execution_count": 1,
   "id": "5285ff0a-cdc6-4ebe-8baf-b6b26c54542e",
   "metadata": {},
   "outputs": [
    {
     "name": "stdin",
     "output_type": "stream",
     "text": [
      "Enter your name: Piyush\n",
      "Enter your Email: infomarit2004@gmail.com\n"
     ]
    }
   ],
   "source": [
    "import cv2\n",
    "import pickle\n",
    "import numpy as np\n",
    "import os\n",
    "video=cv2.VideoCapture(0)\n",
    "facedetect=cv2.CascadeClassifier('data/haarcascade_frontalface_default.xml')\n",
    "\n",
    "faces_data=[]\n",
    "\n",
    "i=0\n",
    "\n",
    "name =input(\"Enter your name:\")\n",
    "Email =input(\"Enter your Email:\")\n",
    "\n",
    "\n",
    "while True:\n",
    "    ret,frame=video.read()\n",
    "    gray=cv2.cvtColor(frame, cv2.COLOR_BGR2GRAY)\n",
    "    faces=facedetect.detectMultiScale(gray, 1.3 ,5)\n",
    "    for (x,y,w,h) in faces:\n",
    "        crop_img=frame[y:y+h, x:x+w, :]\n",
    "        resized_img=cv2.resize(crop_img, (50,50))\n",
    "        if len(faces_data)<=100 and i%10==0:\n",
    "            faces_data.append(resized_img)\n",
    "        i=i+1\n",
    "        cv2.putText(frame, str(len(faces_data)), (50,50), cv2.FONT_HERSHEY_COMPLEX, 1, (0,0,255), 1)\n",
    "        cv2.rectangle(frame, (x,y), (x+w, y+h), (0,0,255), 1)\n",
    "    cv2.imshow(\"Frame\",frame)\n",
    "    k=cv2.waitKey(1)\n",
    "    if k==ord('q') or len(faces_data)==100:\n",
    "        break\n",
    "video.release()\n",
    "cv2.destroyAllWindows()\n",
    "\n",
    "faces_data=np.asarray(faces_data)\n",
    "faces_data=faces_data.reshape(100, -1)\n",
    "\n",
    "\n",
    "if 'names.pkl' not in os.listdir('data/'):\n",
    "    names=[name]*100\n",
    "    with open('data/names.pkl', 'wb') as f:\n",
    "        pickle.dump(names, f)\n",
    "else:\n",
    "    with open('data/names.pkl', 'rb') as f:\n",
    "        names=pickle.load(f)\n",
    "    names=names+[name]*100\n",
    "    with open('data/names.pkl', 'wb') as f:\n",
    "        pickle.dump(names, f)\n",
    "\n",
    "if 'faces_data.pkl' not in os.listdir('data/'):\n",
    "    with open('data/faces_data.pkl', 'wb') as f:\n",
    "        pickle.dump(faces_data, f)\n",
    "else:\n",
    "    with open('data/faces_data.pkl', 'rb') as f:\n",
    "        faces=pickle.load(f)\n",
    "    faces=np.append(faces, faces_data, axis=0)\n",
    "    with open('data/faces_data.pkl', 'wb') as f:\n",
    "        pickle.dump(faces, f)\n",
    "\n",
    "if 'Emails.pkl' not in os.listdir('data/'):\n",
    "    Emails=[Email]*100\n",
    "    with open('data/Emails.pkl', 'wb') as f:\n",
    "        pickle.dump(Emails, f)\n",
    "else:\n",
    "    with open('data/Emails.pkl', 'rb') as f:\n",
    "        Emails=pickle.load(f)\n",
    "    Emails=Emails+[Email]*100\n",
    "    with open('data/Emails.pkl', 'wb') as f:\n",
    "        pickle.dump(Emails, f)"
   ]
  },
  {
   "cell_type": "code",
   "execution_count": null,
   "id": "44f42383-3847-4d0e-aac6-e2cdf2d8b3b6",
   "metadata": {},
   "outputs": [],
   "source": []
  }
 ],
 "metadata": {
  "kernelspec": {
   "display_name": "Python 3 (ipykernel)",
   "language": "python",
   "name": "python3"
  },
  "language_info": {
   "codemirror_mode": {
    "name": "ipython",
    "version": 3
   },
   "file_extension": ".py",
   "mimetype": "text/x-python",
   "name": "python",
   "nbconvert_exporter": "python",
   "pygments_lexer": "ipython3",
   "version": "3.12.3"
  }
 },
 "nbformat": 4,
 "nbformat_minor": 5
}
